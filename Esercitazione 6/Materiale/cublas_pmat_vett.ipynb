{
  "nbformat": 4,
  "nbformat_minor": 0,
  "metadata": {
    "colab": {
      "provenance": [],
      "gpuType": "T4"
    },
    "kernelspec": {
      "name": "python3",
      "display_name": "Python 3"
    },
    "language_info": {
      "name": "python"
    },
    "accelerator": "GPU"
  },
  "cells": [
    {
      "cell_type": "code",
      "execution_count": null,
      "metadata": {
        "colab": {
          "base_uri": "https://localhost:8080/"
        },
        "id": "blC0RX4AvibC",
        "outputId": "35585b85-49b6-4789-a2aa-b0b045bd4d68"
      },
      "outputs": [
        {
          "output_type": "stream",
          "name": "stdout",
          "text": [
            "Collecting nvcc4jupyter\n",
            "  Downloading nvcc4jupyter-1.2.1-py3-none-any.whl.metadata (5.1 kB)\n",
            "Downloading nvcc4jupyter-1.2.1-py3-none-any.whl (10 kB)\n",
            "Installing collected packages: nvcc4jupyter\n",
            "Successfully installed nvcc4jupyter-1.2.1\n",
            "Detected platform \"Colab\". Running its setup...\n",
            "Source files will be saved in \"/tmp/tmpadvoh1rw\".\n"
          ]
        }
      ],
      "source": [
        "!pip install nvcc4jupyter\n",
        "%load_ext nvcc4jupyter"
      ]
    },
    {
      "cell_type": "code",
      "source": [
        "%%writefile cublas_psacalare.cu\n",
        "#include <cstdlib>\n",
        "#include <stdio.h>\n",
        "#include <stdlib.h>\n",
        "#include <time.h>\n",
        "#include <cuda.h>\n",
        "#include <cublas_v2.h>\n",
        "#include <cuda_runtime.h>\n",
        "#define IDX2C(i,j,ld) (((j)*(ld))+(i)) // ld = numero di righe\n",
        "\n",
        "void print_matrix(int M, int N, float* a){\n",
        "    for(int i = 0; i < M; i++){\n",
        "        for(int j = 0; j < N; j++){\n",
        "            printf(\"%f \", a[IDX2C(i, j, M)]);\n",
        "        }\n",
        "        printf(\"\\n\");\n",
        "    }\n",
        "}\n",
        "\n",
        "int main(void){\n",
        "    int M, N;\n",
        "    float *h_a, *d_a;\n",
        "    float *h_x, *d_x;\n",
        "    float *h_y, *d_y;\n",
        "    float alpha = 1.0, beta = 0.0f;\n",
        "    float elapsed_time = 0;\n",
        "    cudaError_t alloc_stat;\n",
        "    cublasStatus_t cub_stat;\n",
        "    cublasHandle_t handle;\n",
        "    cudaEvent_t start_cublas, stop_cublas;\n",
        "\n",
        "    M = 8000;\n",
        "    N = 8000;\n",
        "\n",
        "    // Allocazione della memoria sull'host\n",
        "    h_a = (float *) malloc(sizeof(*h_a) * M * N); // M righe, N colonne\n",
        "    if(!h_a){\n",
        "        fprintf(stderr, \"Host memory allocation failed for matrix a.\");\n",
        "        return EXIT_FAILURE;\n",
        "    }\n",
        "\n",
        "    h_x = (float *) malloc(sizeof(*h_x) * N); // N righe, 1 colonna\n",
        "    if(!h_x){\n",
        "        fprintf(stderr, \"Host memory allocation failed for vector x.\");\n",
        "        return EXIT_FAILURE;\n",
        "    }\n",
        "\n",
        "    h_y = (float *) malloc(sizeof(*h_y) * M);\n",
        "    if(!h_y){\n",
        "        fprintf(stderr, \"Host memory allocation failed for vector y.\");\n",
        "    }\n",
        "\n",
        "    // Inizializzazione\n",
        "\n",
        "    srand((unsigned int) time(0));\n",
        "\n",
        "    // inizializzo il vettore x\n",
        "    for (int i=0; i < N; i++) {\n",
        "        // Inizializzato in row major\n",
        "        h_x[i] = rand()%5-2;\n",
        "    }\n",
        "\n",
        "    // inizializzo la matrice a\n",
        "    for (int i=0; i < M; i++) {\n",
        "        for(int j = 0; j < N; j++)\n",
        "        // Inizializzato in column major\n",
        "            h_a[IDX2C(i, j, M)] = rand()%5-2;\n",
        "    }\n",
        "\n",
        "    for (int i = 0; i < M; i++) {\n",
        "        h_y[i] = 0.0f;\n",
        "    }\n",
        "\n",
        "    if(M * N < 25) {\n",
        "        printf(\"Matrix : \\n\");\n",
        "        print_matrix(M, N, h_a);\n",
        "        printf(\"Vector X: \\n\");\n",
        "        print_matrix(N, 1, h_x);\n",
        "    }\n",
        "\n",
        "    // Allocazione della memoria sul device\n",
        "    alloc_stat = cudaMalloc((void **)&d_a, M * N * sizeof(float));\n",
        "    if (alloc_stat != cudaSuccess) {\n",
        "        printf (\"Device memory allocation failed for matrix a.\");\n",
        "        return EXIT_FAILURE;\n",
        "    }\n",
        "    alloc_stat = cudaMalloc((void **)&d_x, N * sizeof(float));\n",
        "    if (alloc_stat != cudaSuccess) {\n",
        "        printf (\"Device memory allocation failed for vector x.\");\n",
        "        return EXIT_FAILURE;\n",
        "    }\n",
        "    alloc_stat = cudaMalloc((void **)&d_y, M * sizeof(float));\n",
        "    if (alloc_stat != cudaSuccess) {\n",
        "        printf (\"Device memory allocation failed for vector y.\");\n",
        "        return EXIT_FAILURE;\n",
        "    }\n",
        "\n",
        "    // Creo l'handle per cublas\n",
        "    cub_stat = cublasCreate(&handle);\n",
        "    if (cub_stat != CUBLAS_STATUS_SUCCESS) {\n",
        "        printf (\"CUBLAS initialization failed\\n\");\n",
        "        return EXIT_FAILURE;\n",
        "    }\n",
        "\n",
        "    cub_stat = cublasSetMatrix(M,N, sizeof(float),h_a,M,d_a,M);    // Setto h_a su d_a\n",
        "    if (cub_stat != CUBLAS_STATUS_SUCCESS) {\n",
        "        printf (\"data download failed matrix a\");\n",
        "        cudaFree (d_a);\n",
        "        cudaFree (d_x);\n",
        "        cudaFree (d_y);\n",
        "        cublasDestroy(handle);\n",
        "        return EXIT_FAILURE;\n",
        "    }\n",
        "\n",
        "    cub_stat = cublasSetMatrix(N, 1, sizeof(float),h_x, N, d_x, N);\n",
        "    if (cub_stat != CUBLAS_STATUS_SUCCESS) {\n",
        "        printf (\"data download failed vector x\");\n",
        "        cudaFree (d_x);\n",
        "        cudaFree (d_y);\n",
        "        cudaFree (d_a);\n",
        "        cublasDestroy(handle);\n",
        "        return EXIT_FAILURE;\n",
        "    }\n",
        "\n",
        "    cudaEventCreate(&start_cublas);\n",
        "    cudaEventCreate(&stop_cublas);\n",
        "    cudaEventRecord(start_cublas);\n",
        "    cub_stat = cublasSgemv(handle, CUBLAS_OP_N, M, N, &alpha, d_a, M, d_x, 1, &beta, d_y, 1);        // Calcolo il prodotto\n",
        "    if (cub_stat != CUBLAS_STATUS_SUCCESS) {\n",
        "        printf (\"data download failed cublasgemv\");\n",
        "        cudaFree (d_x);\n",
        "        cudaFree (d_a);\n",
        "        cudaFree (d_y);\n",
        "        cublasDestroy(handle);\n",
        "        return EXIT_FAILURE;\n",
        "    }\n",
        "    cudaEventRecord(stop_cublas);\n",
        "    cudaEventSynchronize(stop_cublas);\n",
        "    cudaEventElapsedTime(&elapsed_time, start_cublas, stop_cublas);\n",
        "    cudaEventDestroy(start_cublas);\n",
        "    cudaEventDestroy(stop_cublas);\n",
        "\n",
        "    cub_stat = cublasGetMatrix(1, M, sizeof(float), d_y, 1, h_y, 1);\n",
        "    if (cub_stat != CUBLAS_STATUS_SUCCESS){\n",
        "        printf(\"data download failed vector y\");\n",
        "        cudaFree(d_y);\n",
        "        cudaFree(d_a);\n",
        "        cudaFree(d_x);\n",
        "        cublasDestroy(handle);\n",
        "        return EXIT_FAILURE;\n",
        "    }\n",
        "\n",
        "    if(M < 10) {\n",
        "        printf(\"Vettore risultante:\\n\");\n",
        "        print_matrix(1, M, h_y);\n",
        "    }\n",
        "    printf(\"Matrice %d x %d.\\n\", M, N);\n",
        "    printf(\"Tempo impiegato: %f\\n\", elapsed_time);\n",
        "\n",
        "    cudaFree(d_y);\n",
        "    cudaFree(d_a);\n",
        "    cudaFree(d_x);\n",
        "    cublasDestroy(handle);\n",
        "\n",
        "    free(h_a);\n",
        "    free(h_x);\n",
        "    free(h_y);\n",
        "\n",
        "}"
      ],
      "metadata": {
        "colab": {
          "base_uri": "https://localhost:8080/"
        },
        "id": "e6z6-BZ-vjd6",
        "outputId": "27acd3da-e2b1-41cf-e9c0-02eb163dbab3"
      },
      "execution_count": null,
      "outputs": [
        {
          "output_type": "stream",
          "name": "stdout",
          "text": [
            "Overwriting cublas_psacalare.cu\n"
          ]
        }
      ]
    },
    {
      "cell_type": "code",
      "source": [
        "!nvcc -o ./cublas_psacalare cublas_psacalare.cu -lcublas\n",
        "! ./cublas_psacalare"
      ],
      "metadata": {
        "colab": {
          "base_uri": "https://localhost:8080/"
        },
        "id": "vh-nyF9tvlfQ",
        "outputId": "b3e49206-3683-43eb-a3ef-3c873224c2be"
      },
      "execution_count": null,
      "outputs": [
        {
          "output_type": "stream",
          "name": "stdout",
          "text": [
            "Matrice 8000 x 8000.\n",
            "Tempo impiegato: 10.413152\n"
          ]
        }
      ]
    },
    {
      "cell_type": "code",
      "source": [
        "%%writefile seriale.c\n",
        "#include <stdlib.h>\n",
        "#include <stdio.h>\n",
        "\n",
        "#define ROWS 2000\n",
        "#define COLS 2000\n",
        "\n",
        "int main(int argc, char **argv) {\n",
        "    double *matrix, *vector, *result;\n",
        "    double start_time, end_time;\n",
        "    struct timeval start, end;\n",
        "    long seconds, useconds;\n",
        "    double elapsed_time;\n",
        "\n",
        "    matrix = (double*)malloc(ROWS * COLS * sizeof(double));\n",
        "    vector = (double*)malloc(COLS * sizeof(double));\n",
        "    result = (double*)malloc(ROWS * sizeof(double));\n",
        "\n",
        "    for (int i = 0; i < ROWS; i++) {\n",
        "        for (int j = 0; j < COLS; j++) {\n",
        "            matrix[i * COLS + j] = i;\n",
        "        }\n",
        "    }\n",
        "\n",
        "    for (int j = 0; j < COLS; j++) {\n",
        "        vector[j] = 1.0;\n",
        "    }\n",
        "\n",
        "    gettimeofday(&start, NULL);  // Inizio del cronometro\n",
        "\n",
        "    for (int i = 0; i < ROWS; i++) {\n",
        "        result[i] = 0.0;\n",
        "        for (int j = 0; j < COLS; j++) {\n",
        "            result[i] += matrix[i * COLS + j] * vector[j];\n",
        "        }\n",
        "    }\n",
        "\n",
        "    gettimeofday(&end, NULL);  // Fine del cronometro\n",
        "\n",
        "    // Calcolo del tempo trascorso in millisecondi\n",
        "    seconds = end.tv_sec - start.tv_sec;\n",
        "    useconds = end.tv_usec - start.tv_usec;\n",
        "    elapsed_time = seconds * 1000 + useconds / 1000.0;\n",
        "\n",
        "    printf(\"Tempo di esecuzione: %.2f ms\\n\", elapsed_time);\n",
        "\n",
        "    free(matrix);\n",
        "    free(vector);\n",
        "    free(result);\n",
        "\n",
        "    return 0;\n",
        "}"
      ],
      "metadata": {
        "colab": {
          "base_uri": "https://localhost:8080/"
        },
        "id": "M3X8u1yhEq4r",
        "outputId": "d72f90c4-6812-403f-ac99-7052572277de"
      },
      "execution_count": null,
      "outputs": [
        {
          "output_type": "stream",
          "name": "stdout",
          "text": [
            "Overwriting seriale.c\n"
          ]
        }
      ]
    },
    {
      "cell_type": "code",
      "source": [
        "!gcc seriale.c -o seriale\n",
        "! ./seriale"
      ],
      "metadata": {
        "colab": {
          "base_uri": "https://localhost:8080/"
        },
        "id": "IaEenqxLIcyk",
        "outputId": "65de24fa-7cb3-4b7a-8180-0e18283412bd"
      },
      "execution_count": null,
      "outputs": [
        {
          "output_type": "stream",
          "name": "stdout",
          "text": [
            "\u001b[01m\u001b[Kseriale.c:\u001b[m\u001b[K In function ‘\u001b[01m\u001b[Kmain\u001b[m\u001b[K’:\n",
            "\u001b[01m\u001b[Kseriale.c:28:5:\u001b[m\u001b[K \u001b[01;35m\u001b[Kwarning: \u001b[m\u001b[Kimplicit declaration of function ‘\u001b[01m\u001b[Kgettimeofday\u001b[m\u001b[K’ [\u001b[01;35m\u001b[K\u001b]8;;https://gcc.gnu.org/onlinedocs/gcc/Warning-Options.html#index-Wimplicit-function-declaration\u0007-Wimplicit-function-declaration\u001b]8;;\u0007\u001b[m\u001b[K]\n",
            "   28 |     \u001b[01;35m\u001b[Kgettimeofday\u001b[m\u001b[K(&start, NULL);  // Inizio del cronometro\n",
            "      |     \u001b[01;35m\u001b[K^~~~~~~~~~~~\u001b[m\u001b[K\n",
            "Tempo di esecuzione: 21.20 ms\n"
          ]
        }
      ]
    },
    {
      "cell_type": "code",
      "source": [],
      "metadata": {
        "id": "s5ZJ7sYrOrci"
      },
      "execution_count": null,
      "outputs": []
    }
  ]
}